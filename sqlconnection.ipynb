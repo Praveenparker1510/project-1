{
 "cells": [
  {
   "cell_type": "code",
   "execution_count": 1,
   "metadata": {},
   "outputs": [],
   "source": [
    "#importing libraries\n",
    "import pandas as pd\n",
    "import mysql.connector\n",
    "import numpy as np"
   ]
  },
  {
   "cell_type": "code",
   "execution_count": 2,
   "metadata": {},
   "outputs": [
    {
     "data": {
      "text/html": [
       "<div>\n",
       "<style scoped>\n",
       "    .dataframe tbody tr th:only-of-type {\n",
       "        vertical-align: middle;\n",
       "    }\n",
       "\n",
       "    .dataframe tbody tr th {\n",
       "        vertical-align: top;\n",
       "    }\n",
       "\n",
       "    .dataframe thead th {\n",
       "        text-align: right;\n",
       "    }\n",
       "</style>\n",
       "<table border=\"1\" class=\"dataframe\">\n",
       "  <thead>\n",
       "    <tr style=\"text-align: right;\">\n",
       "      <th></th>\n",
       "      <th>Bus_Name</th>\n",
       "      <th>Bus_Type</th>\n",
       "      <th>Starting_Time</th>\n",
       "      <th>Ending_Time</th>\n",
       "      <th>Total_Duration</th>\n",
       "      <th>Price</th>\n",
       "      <th>Seats_Available</th>\n",
       "      <th>Ratings</th>\n",
       "      <th>Route_Link</th>\n",
       "      <th>Route_Name</th>\n",
       "    </tr>\n",
       "  </thead>\n",
       "  <tbody>\n",
       "    <tr>\n",
       "      <th>0</th>\n",
       "      <td>MMK Travels</td>\n",
       "      <td>A/C Seater / Sleeper (2+1)</td>\n",
       "      <td>22:30</td>\n",
       "      <td>07:30</td>\n",
       "      <td>09h 00m</td>\n",
       "      <td>INR 800</td>\n",
       "      <td>16 Seats available</td>\n",
       "      <td>4.4\\r\\n541</td>\n",
       "      <td>https://www.redbus.in/bus-tickets/bangalore-to...</td>\n",
       "      <td>Bangalore to Kozhikode</td>\n",
       "    </tr>\n",
       "    <tr>\n",
       "      <th>1</th>\n",
       "      <td>SAAM BUS</td>\n",
       "      <td>VE A/C Sleeper (2+1)</td>\n",
       "      <td>21:45</td>\n",
       "      <td>06:45</td>\n",
       "      <td>09h 00m</td>\n",
       "      <td>INR 1049</td>\n",
       "      <td>13 Seats available</td>\n",
       "      <td>4.3\\r\\n208</td>\n",
       "      <td>https://www.redbus.in/bus-tickets/bangalore-to...</td>\n",
       "      <td>Bangalore to Kozhikode</td>\n",
       "    </tr>\n",
       "    <tr>\n",
       "      <th>2</th>\n",
       "      <td>Kyros Connect</td>\n",
       "      <td>Bharat Benz A/C Semi Sleeper (2+2)</td>\n",
       "      <td>23:00</td>\n",
       "      <td>09:00</td>\n",
       "      <td>10h 00m</td>\n",
       "      <td>INR 799</td>\n",
       "      <td>38 Seats available</td>\n",
       "      <td>4.1\\r\\n348</td>\n",
       "      <td>https://www.redbus.in/bus-tickets/bangalore-to...</td>\n",
       "      <td>Bangalore to Kozhikode</td>\n",
       "    </tr>\n",
       "    <tr>\n",
       "      <th>3</th>\n",
       "      <td>AdSuraj Holidays</td>\n",
       "      <td>VE A/C Sleeper (2+1)</td>\n",
       "      <td>22:30</td>\n",
       "      <td>07:30</td>\n",
       "      <td>09h 00m</td>\n",
       "      <td>INR 900</td>\n",
       "      <td>20 Seats available</td>\n",
       "      <td>3.9\\r\\n264</td>\n",
       "      <td>https://www.redbus.in/bus-tickets/bangalore-to...</td>\n",
       "      <td>Bangalore to Kozhikode</td>\n",
       "    </tr>\n",
       "    <tr>\n",
       "      <th>4</th>\n",
       "      <td>DLT BUS</td>\n",
       "      <td>A/C Sleeper (2+1)</td>\n",
       "      <td>22:30</td>\n",
       "      <td>07:30</td>\n",
       "      <td>09h 00m</td>\n",
       "      <td>INR 1299</td>\n",
       "      <td>22 Seats available</td>\n",
       "      <td>4.1\\r\\n315</td>\n",
       "      <td>https://www.redbus.in/bus-tickets/bangalore-to...</td>\n",
       "      <td>Bangalore to Kozhikode</td>\n",
       "    </tr>\n",
       "    <tr>\n",
       "      <th>...</th>\n",
       "      <td>...</td>\n",
       "      <td>...</td>\n",
       "      <td>...</td>\n",
       "      <td>...</td>\n",
       "      <td>...</td>\n",
       "      <td>...</td>\n",
       "      <td>...</td>\n",
       "      <td>...</td>\n",
       "      <td>...</td>\n",
       "      <td>...</td>\n",
       "    </tr>\n",
       "    <tr>\n",
       "      <th>14017</th>\n",
       "      <td>UPSRTC - SJP0657</td>\n",
       "      <td>Ordinary Non AC Seater 2+3</td>\n",
       "      <td>14:30</td>\n",
       "      <td>22:50</td>\n",
       "      <td>08h 20m</td>\n",
       "      <td>INR 521</td>\n",
       "      <td>52 Seats available</td>\n",
       "      <td>3.3</td>\n",
       "      <td>https://www.redbus.in/bus-tickets/dehradun-to-...</td>\n",
       "      <td>Dehradun to Bareilly</td>\n",
       "    </tr>\n",
       "    <tr>\n",
       "      <th>14018</th>\n",
       "      <td>UPSRTC - RKD0057</td>\n",
       "      <td>Ordinary Non AC Seater 2+3</td>\n",
       "      <td>19:31</td>\n",
       "      <td>03:00</td>\n",
       "      <td>07h 29m</td>\n",
       "      <td>INR 517</td>\n",
       "      <td>52 Seats available</td>\n",
       "      <td>3.1\\r\\n4</td>\n",
       "      <td>https://www.redbus.in/bus-tickets/dehradun-to-...</td>\n",
       "      <td>Dehradun to Bareilly</td>\n",
       "    </tr>\n",
       "    <tr>\n",
       "      <th>14019</th>\n",
       "      <td>UPSRTC - RKD0135</td>\n",
       "      <td>Janrath AC Seater 2+3</td>\n",
       "      <td>22:31</td>\n",
       "      <td>06:01</td>\n",
       "      <td>07h 30m</td>\n",
       "      <td>INR 652</td>\n",
       "      <td>48 Seats available</td>\n",
       "      <td>2.3\\r\\n40</td>\n",
       "      <td>https://www.redbus.in/bus-tickets/dehradun-to-...</td>\n",
       "      <td>Dehradun to Bareilly</td>\n",
       "    </tr>\n",
       "    <tr>\n",
       "      <th>14020</th>\n",
       "      <td>Vijay Tour and Travels</td>\n",
       "      <td>Bharat Benz A/C Seater /Sleeper (2+1)</td>\n",
       "      <td>15:30</td>\n",
       "      <td>23:10</td>\n",
       "      <td>07h 40m</td>\n",
       "      <td>854</td>\n",
       "      <td>40 Seats available</td>\n",
       "      <td>2.9\\r\\n17</td>\n",
       "      <td>https://www.redbus.in/bus-tickets/dehradun-to-...</td>\n",
       "      <td>Dehradun to Bareilly</td>\n",
       "    </tr>\n",
       "    <tr>\n",
       "      <th>14021</th>\n",
       "      <td>Mahalaxmi Travels</td>\n",
       "      <td>Bharat Benz A/C Seater /Sleeper (2+1)</td>\n",
       "      <td>17:00</td>\n",
       "      <td>03:00</td>\n",
       "      <td>10h 00m</td>\n",
       "      <td>INR 899</td>\n",
       "      <td>24 Seats available</td>\n",
       "      <td>3.6</td>\n",
       "      <td>https://www.redbus.in/bus-tickets/dehradun-to-...</td>\n",
       "      <td>Dehradun to Bareilly</td>\n",
       "    </tr>\n",
       "  </tbody>\n",
       "</table>\n",
       "<p>14022 rows × 10 columns</p>\n",
       "</div>"
      ],
      "text/plain": [
       "                     Bus_Name                               Bus_Type  \\\n",
       "0                 MMK Travels             A/C Seater / Sleeper (2+1)   \n",
       "1                    SAAM BUS                   VE A/C Sleeper (2+1)   \n",
       "2               Kyros Connect     Bharat Benz A/C Semi Sleeper (2+2)   \n",
       "3            AdSuraj Holidays                   VE A/C Sleeper (2+1)   \n",
       "4                     DLT BUS                      A/C Sleeper (2+1)   \n",
       "...                       ...                                    ...   \n",
       "14017        UPSRTC - SJP0657             Ordinary Non AC Seater 2+3   \n",
       "14018        UPSRTC - RKD0057             Ordinary Non AC Seater 2+3   \n",
       "14019        UPSRTC - RKD0135                  Janrath AC Seater 2+3   \n",
       "14020  Vijay Tour and Travels  Bharat Benz A/C Seater /Sleeper (2+1)   \n",
       "14021       Mahalaxmi Travels  Bharat Benz A/C Seater /Sleeper (2+1)   \n",
       "\n",
       "      Starting_Time Ending_Time Total_Duration     Price     Seats_Available  \\\n",
       "0             22:30       07:30        09h 00m   INR 800  16 Seats available   \n",
       "1             21:45       06:45        09h 00m  INR 1049  13 Seats available   \n",
       "2             23:00       09:00        10h 00m   INR 799  38 Seats available   \n",
       "3             22:30       07:30        09h 00m   INR 900  20 Seats available   \n",
       "4             22:30       07:30        09h 00m  INR 1299  22 Seats available   \n",
       "...             ...         ...            ...       ...                 ...   \n",
       "14017         14:30       22:50        08h 20m   INR 521  52 Seats available   \n",
       "14018         19:31       03:00        07h 29m   INR 517  52 Seats available   \n",
       "14019         22:31       06:01        07h 30m   INR 652  48 Seats available   \n",
       "14020         15:30       23:10        07h 40m       854  40 Seats available   \n",
       "14021         17:00       03:00        10h 00m   INR 899  24 Seats available   \n",
       "\n",
       "          Ratings                                         Route_Link  \\\n",
       "0      4.4\\r\\n541  https://www.redbus.in/bus-tickets/bangalore-to...   \n",
       "1      4.3\\r\\n208  https://www.redbus.in/bus-tickets/bangalore-to...   \n",
       "2      4.1\\r\\n348  https://www.redbus.in/bus-tickets/bangalore-to...   \n",
       "3      3.9\\r\\n264  https://www.redbus.in/bus-tickets/bangalore-to...   \n",
       "4      4.1\\r\\n315  https://www.redbus.in/bus-tickets/bangalore-to...   \n",
       "...           ...                                                ...   \n",
       "14017         3.3  https://www.redbus.in/bus-tickets/dehradun-to-...   \n",
       "14018    3.1\\r\\n4  https://www.redbus.in/bus-tickets/dehradun-to-...   \n",
       "14019   2.3\\r\\n40  https://www.redbus.in/bus-tickets/dehradun-to-...   \n",
       "14020   2.9\\r\\n17  https://www.redbus.in/bus-tickets/dehradun-to-...   \n",
       "14021         3.6  https://www.redbus.in/bus-tickets/dehradun-to-...   \n",
       "\n",
       "                   Route_Name  \n",
       "0      Bangalore to Kozhikode  \n",
       "1      Bangalore to Kozhikode  \n",
       "2      Bangalore to Kozhikode  \n",
       "3      Bangalore to Kozhikode  \n",
       "4      Bangalore to Kozhikode  \n",
       "...                       ...  \n",
       "14017    Dehradun to Bareilly  \n",
       "14018    Dehradun to Bareilly  \n",
       "14019    Dehradun to Bareilly  \n",
       "14020    Dehradun to Bareilly  \n",
       "14021    Dehradun to Bareilly  \n",
       "\n",
       "[14022 rows x 10 columns]"
      ]
     },
     "execution_count": 2,
     "metadata": {},
     "output_type": "execute_result"
    }
   ],
   "source": [
    "#csv to DataFrame\n",
    "df_Buses_Kerela = pd.read_csv(\"df_Kerela_Busdetails.csv\")\n",
    "df_Buses_Andhra = pd.read_csv(\"df_Andhra_Busdetails.csv\")\n",
    "df_Buses_Telungana = pd.read_csv(\"df_Telungana_Busdetails.csv\")\n",
    "df_Buses_Goa = pd.read_csv(\"df_Goa_Busdetails.csv\")\n",
    "df_Buses_Rajasthan = pd.read_csv(\"df_Rajasthan_Busdetails.csv\")\n",
    "df_Buses_SouthBengal = pd.read_csv(\"df_SouthBengal_Busdetails.csv\")\n",
    "df_Buses_Haryana = pd.read_csv(\"df_Haryana_Busdetails.csv\")\n",
    "df_Buses_Assam = pd.read_csv(\"df_Assam_Busdetails.csv\")\n",
    "df_Buses_UttarPradesh = pd.read_csv(\"df_UttarPradesh_Busdetails.csv\")\n",
    "df_Buses_WestBengal = pd.read_csv(\"df_WestBengal_Busdetails.csv\")\n",
    "\n",
    "Final_df = pd.concat([df_Buses_Kerela,df_Buses_Andhra,df_Buses_Telungana,df_Buses_Goa,df_Buses_Rajasthan,df_Buses_Haryana,df_Buses_Assam,\n",
    "                      df_Buses_SouthBengal,df_Buses_WestBengal,df_Buses_UttarPradesh],ignore_index=True)\n",
    "Final_df"
   ]
  },
  {
   "cell_type": "markdown",
   "metadata": {},
   "source": [
    "## Data Cleaning"
   ]
  },
  {
   "cell_type": "code",
   "execution_count": 3,
   "metadata": {},
   "outputs": [
    {
     "name": "stdout",
     "output_type": "stream",
     "text": [
      "<class 'pandas.core.frame.DataFrame'>\n",
      "RangeIndex: 14022 entries, 0 to 14021\n",
      "Data columns (total 10 columns):\n",
      " #   Column           Non-Null Count  Dtype \n",
      "---  ------           --------------  ----- \n",
      " 0   Bus_Name         14022 non-null  object\n",
      " 1   Bus_Type         14022 non-null  object\n",
      " 2   Starting_Time    14022 non-null  object\n",
      " 3   Ending_Time      14022 non-null  object\n",
      " 4   Total_Duration   14022 non-null  object\n",
      " 5   Price            14022 non-null  object\n",
      " 6   Seats_Available  14022 non-null  object\n",
      " 7   Ratings          14022 non-null  object\n",
      " 8   Route_Link       14022 non-null  object\n",
      " 9   Route_Name       14022 non-null  object\n",
      "dtypes: object(10)\n",
      "memory usage: 1.1+ MB\n"
     ]
    }
   ],
   "source": [
    "#data about the data\n",
    "Final_df.info()"
   ]
  },
  {
   "cell_type": "code",
   "execution_count": 4,
   "metadata": {},
   "outputs": [
    {
     "data": {
      "text/plain": [
       "0         800.0\n",
       "1        1049.0\n",
       "2         799.0\n",
       "3         900.0\n",
       "4        1299.0\n",
       "          ...  \n",
       "14017     521.0\n",
       "14018     517.0\n",
       "14019     652.0\n",
       "14020     854.0\n",
       "14021     899.0\n",
       "Name: Price, Length: 14022, dtype: float64"
      ]
     },
     "execution_count": 4,
     "metadata": {},
     "output_type": "execute_result"
    }
   ],
   "source": [
    "#convert prices to numeric\n",
    "Final_df[\"Price\"]=Final_df[\"Price\"].str.replace(\"INR\",\"\")\n",
    "Final_df[\"Price\"]=Final_df[\"Price\"].astype(float)\n",
    "Final_df[\"Price\"].fillna(0)"
   ]
  },
  {
   "cell_type": "code",
   "execution_count": 5,
   "metadata": {},
   "outputs": [
    {
     "name": "stderr",
     "output_type": "stream",
     "text": [
      "C:\\Users\\sridh\\AppData\\Local\\Temp\\ipykernel_25924\\2766692324.py:6: FutureWarning: A value is trying to be set on a copy of a DataFrame or Series through chained assignment using an inplace method.\n",
      "The behavior will change in pandas 3.0. This inplace method will never work because the intermediate object on which we are setting values always behaves as a copy.\n",
      "\n",
      "For example, when doing 'df[col].method(value, inplace=True)', try using 'df.method({col: value}, inplace=True)' or df[col] = df[col].method(value) instead, to perform the operation inplace on the original object.\n",
      "\n",
      "\n",
      "  Final_df[\"Ratings\"].fillna(0,inplace=True)\n"
     ]
    }
   ],
   "source": [
    "#convert Ratings to numeric\n",
    "Final_df[\"Ratings\"] = Final_df[\"Ratings\"].str.replace(\"New\",\"\")\n",
    "Final_df[\"Ratings\"] = Final_df[\"Ratings\"].str.strip()\n",
    "Final_df[\"Ratings\"] = Final_df[\"Ratings\"].str.split().str[0]\n",
    "Final_df[\"Ratings\"] = pd.to_numeric(Final_df[\"Ratings\"],errors=\"coerce\")\n",
    "Final_df[\"Ratings\"].fillna(0,inplace=True)"
   ]
  },
  {
   "cell_type": "code",
   "execution_count": 6,
   "metadata": {},
   "outputs": [
    {
     "name": "stdout",
     "output_type": "stream",
     "text": [
      "<class 'pandas.core.frame.DataFrame'>\n",
      "RangeIndex: 14022 entries, 0 to 14021\n",
      "Data columns (total 10 columns):\n",
      " #   Column           Non-Null Count  Dtype  \n",
      "---  ------           --------------  -----  \n",
      " 0   Bus_Name         14022 non-null  object \n",
      " 1   Bus_Type         14022 non-null  object \n",
      " 2   Starting_Time    14022 non-null  object \n",
      " 3   Ending_Time      14022 non-null  object \n",
      " 4   Total_Duration   14022 non-null  object \n",
      " 5   Price            14022 non-null  float64\n",
      " 6   Seats_Available  14022 non-null  object \n",
      " 7   Ratings          14022 non-null  float64\n",
      " 8   Route_Link       14022 non-null  object \n",
      " 9   Route_Name       14022 non-null  object \n",
      "dtypes: float64(2), object(8)\n",
      "memory usage: 1.1+ MB\n"
     ]
    }
   ],
   "source": [
    "#info after the data type change\n",
    "Final_df.info()\n"
   ]
  },
  {
   "cell_type": "code",
   "execution_count": 7,
   "metadata": {},
   "outputs": [],
   "source": [
    "Final_df =Final_df[Final_df[\"Price\"] <= 7000]"
   ]
  },
  {
   "cell_type": "code",
   "execution_count": 8,
   "metadata": {},
   "outputs": [],
   "source": [
    "#replacing the nan value\n",
    "Final_df = Final_df.replace({np.nan : None})"
   ]
  },
  {
   "cell_type": "code",
   "execution_count": 9,
   "metadata": {},
   "outputs": [],
   "source": [
    "#change DataFrame to csv\n",
    "path = r\"C:/Users/sridh/OneDrive/Desktop/redbus/routes_link/Final_Busdetails.csv\"\n",
    "Final_df.to_csv(path,index=False)"
   ]
  },
  {
   "cell_type": "markdown",
   "metadata": {},
   "source": [
    "\n",
    "## Create a mysql database"
   ]
  },
  {
   "cell_type": "code",
   "execution_count": 2,
   "metadata": {},
   "outputs": [],
   "source": [
    "#sql connection\n",
    "conn = mysql.connector.connect(host = \"localhost\",user = \"root\",password = \"\",database = \"RED_BUS_DETAILS\")\n",
    "my_cursor = conn.cursor(buffered=True)\n",
    "my_cursor.execute(\"CREATE DATABASE IF NOT EXISTS RED_BUS_DETAILS\")"
   ]
  },
  {
   "cell_type": "code",
   "execution_count": 23,
   "metadata": {},
   "outputs": [
    {
     "name": "stdout",
     "output_type": "stream",
     "text": [
      "TABLE CREATED SUCCESSFULLY\n"
     ]
    }
   ],
   "source": [
    "#Table creation\n",
    "my_cursor.execute('''CREATE TABLE IF NOT EXISTS bus_details(\n",
    "                  ID INT AUTO_INCREMENT PRIMARY KEY,\n",
    "                  Bus_Name VARCHAR (255) NOT NULL,\n",
    "                  Bus_Type VARCHAR (255) NOT NULL,\n",
    "                  Starting_Time VARCHAR (255) NOT NULL,\n",
    "                  Ending_Time VARCHAR (255) NOT NULL,\n",
    "                  Total_Duration VARCHAR (255) NOT NULL,\n",
    "                  Price FLOAT NULL,\n",
    "                  Seats_Available VARCHAR (255) NOT NULL,\n",
    "                  Ratings FLOAT NULL,\n",
    "                  Route_Link VARCHAR(255) NULL,\n",
    "                  Route_Name VARCHAR (255) NULL\n",
    "                  )''')\n",
    "print(\"TABLE CREATED SUCCESSFULLY\")"
   ]
  },
  {
   "cell_type": "code",
   "execution_count": 24,
   "metadata": {},
   "outputs": [
    {
     "name": "stdout",
     "output_type": "stream",
     "text": [
      "Data inserted successfully\n"
     ]
    }
   ],
   "source": [
    "\n",
    "# SQL Query to insert data into bus_details table\n",
    "insert_query = \"\"\"INSERT INTO bus_details(\n",
    "                    Bus_Name,\n",
    "                    Bus_Type,\n",
    "                    Starting_Time,\n",
    "                    Ending_Time,\n",
    "                    Total_Duration,\n",
    "                    Price,\n",
    "                    Seats_Available,\n",
    "                    Ratings,\n",
    "                    Route_Link,\n",
    "                    Route_Name)\n",
    "                  VALUES(%s ,%s ,%s ,%s ,%s ,%s ,%s ,%s ,%s ,%s )\"\"\"\n",
    "\n",
    "# Loop through the DataFrame and insert each row into the database\n",
    "try:\n",
    "    for index, row in Final_df.iterrows():\n",
    "        my_cursor.execute(insert_query, (\n",
    "            row[\"Bus_Name\"],\n",
    "            row[\"Bus_Type\"],\n",
    "            row[\"Starting_Time\"],\n",
    "            row[\"Ending_Time\"],\n",
    "            row[\"Total_Duration\"],\n",
    "            row[\"Price\"],\n",
    "            row[\"Seats_Available\"],\n",
    "            row[\"Ratings\"],\n",
    "            row[\"Route_Link\"],\n",
    "            row[\"Route_Name\"]\n",
    "        ))\n",
    "\n",
    "    # Commit the transaction to the database\n",
    "    conn.commit()\n",
    "\n",
    "    print(\"Data inserted successfully\")\n",
    "\n",
    "except mysql.connector.Error as e:\n",
    "    # If there's an error, print it and roll back the transaction\n",
    "    print(f\"Error: {e}\")\n",
    "    conn.rollback()\n",
    "\n",
    "finally:\n",
    "    # Close the cursor and connection\n",
    "    my_cursor.close()\n",
    "    conn.close()\n"
   ]
  }
 ],
 "metadata": {
  "kernelspec": {
   "display_name": ".venv",
   "language": "python",
   "name": "python3"
  },
  "language_info": {
   "codemirror_mode": {
    "name": "ipython",
    "version": 3
   },
   "file_extension": ".py",
   "mimetype": "text/x-python",
   "name": "python",
   "nbconvert_exporter": "python",
   "pygments_lexer": "ipython3",
   "version": "3.10.11"
  }
 },
 "nbformat": 4,
 "nbformat_minor": 2
}
